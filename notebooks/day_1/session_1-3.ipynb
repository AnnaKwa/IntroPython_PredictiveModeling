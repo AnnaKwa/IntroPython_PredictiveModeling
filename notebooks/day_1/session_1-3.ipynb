{
 "cells": [
  {
   "cell_type": "markdown",
   "metadata": {
    "collapsed": true
   },
   "source": [
    "# Session 1.3\n",
    "## Exploratory data analysis in Python\n",
    "\n",
    "- In the following session we are going to perform an **exploratory data analysis** of a data set\n",
    "- The goal is to gain a very basic understanding of the structure of the data set and some high-level understanding of the variables and their relationships\n",
    "- By the end of this notebook, we will be able to answer questions like\n",
    "    - What is the structure of the data set?\n",
    "    - What does the data set describe?\n",
    "    - What is the distribution of a variable look like?\n",
    "    - Are there any correlations between variables?\n",
    "- We will load the data set, examine its structure and contents at a high level, explore relationships between the variables in the data set, and ultimately create a correlation matrix for the data set"
   ]
  },
  {
   "cell_type": "markdown",
   "metadata": {},
   "source": [
    "## 1. First look at the data set\n",
    "- The very first step in any data analysis is to simply look at the file(s) containing the data\n",
    "- In many cases the file will be too large to open in a text editor; if this is the case, we could use Python or some other programming language to parse the first few hundred lines of the file to gain some idea of its structure\n",
    "- In this case, the file size is only ~123 kB; we can open it in a text editor\n",
    "- Using your favorite text editor (TextEdit, notepad, emacs, ...), open the file located at '.../IntroPython_PredictiveModeling/notebooks/day_1/data/world_indexes.csv'\n",
    "- Inspect the data for a couple minutes"
   ]
  },
  {
   "cell_type": "markdown",
   "metadata": {},
   "source": [
    "- We can see that the file consists of numbers and words separated by commas---this indicates that the file is a 'comma separated value' or csv file\n",
    "- The first line in the file contains the column headers\n",
    "- Subsequent lines are the rows of data in the file\n",
    "- It looks like the first column is the name of a country, so each row presumably contains data for a different country\n",
    "- The column names describe various financial and health metrics for each country"
   ]
  },
  {
   "cell_type": "markdown",
   "metadata": {},
   "source": [
    "## 2. Load the data set\n",
    "- Our cursory look at the data revealed that\n",
    "    - The file is only 123 kB; the entire file can easily be loaded into memory\n",
    "    - The data set is csv formatted\n",
    "    - The first row contains column information\n",
    "    - The first column gives a country name, but every other column contains pure numerical data\n",
    "- Given the above properties of the file, it makes sense to create a numpy array of the numerical data and two auxiliary arrays containing the column and country information\n",
    "- We can load the data set using the Python csv module"
   ]
  },
  {
   "cell_type": "markdown",
   "metadata": {},
   "source": [
    "##### <font color=\"red\">Student activity 1: Loading the data set</font>\n",
    "- Open the data file and create a csv reader object to read the file\n",
    "- Put all of the column headers (the first row of the file) into a Python `list` object\n",
    "- Put the country names into another Python `list` object\n",
    "- Load all of the numerical data into a `numpy array`\n",
    "- The following is a code block responsible for loading the data set as described above, but contains some bugs that need to be fixed\n",
    "- Carefully read through the code line-by-line to understand what it is doing, and fix all of the lines that have a comment starting with 'FIX THIS'"
   ]
  },
  {
   "cell_type": "code",
   "execution_count": 46,
   "metadata": {
    "collapsed": true
   },
   "outputs": [],
   "source": [
    "# Imports\n",
    "import csv \n",
    "import numpy as np"
   ]
  },
  {
   "cell_type": "code",
   "execution_count": 47,
   "metadata": {
    "collapsed": true
   },
   "outputs": [],
   "source": [
    "# Open the data file\n",
    "file_path = './data/world_indexes_data'                       # FIX THIS: Insert correct file path\n",
    "with open(file_path) as file_handle:\n",
    "    file_reader = csv.reader(file_handle, delimiter = ',')    # FIX THIS: Need to specify the delimiter.\n",
    "                                                \n",
    "    # Process the header (first row of file)\n",
    "\n",
    "    header = next(file_reader)\n",
    "    num_columns = len(header)       # FIX THIS: Need to calculate the number of columns in the file\n",
    "                                    # You can do this by finding the length of the header list\n",
    "        \n",
    "        \n",
    "    # Create a dictionary {column_name: column_index}\n",
    "    # This will be useful for accessing the data by column name rather than column index\n",
    "    columns = {header[i]: i-1 for i in range(1,len(column_names))}    # Create the columns dict\n",
    "    \n",
    "    \n",
    "    # Process the body\n",
    "    \n",
    "    country_names = []    # List that will hold the country name\n",
    "    data = np.empty((0, num_columns-1), dtype = float)    # We create an empty numpy array that we will\n",
    "                                                          # add all the row data to\n",
    "    \n",
    "    \n",
    "    # Read in each row\n",
    "    for row in file_reader:\n",
    "        \n",
    "        # Add the first element in the row to the countries list\n",
    "        country_names.append(row[0])\n",
    "        \n",
    "        \n",
    "        # Add the rest of the rows to the data array\n",
    "        data = np.vstack((data, np.array([float(num) for num in row[1:]])))\n",
    "        \n",
    "    countries = {country_names[i]:i for i in range(len(country_names))}    # Create the countries dict"
   ]
  },
  {
   "cell_type": "markdown",
   "metadata": {},
   "source": [
    "- Great, now we have the data loaded into three structures:\n",
    "\n",
    "\n",
    "1. A ** numpy array ** containing just the numerical rows and columns\n",
    "2. A ** dictionary ** that contains {Column name: Column index} key-value pairs\n",
    "3. Another ** dictionary ** that contains {Country name: Row index} key-value pairs\n",
    "\n",
    "\n",
    "- Dictionaries are useful because they allow us to find the data related to particular features or countries easily\n"
   ]
  },
  {
   "cell_type": "markdown",
   "metadata": {},
   "source": [
    "- For instance, if we are asked to find all the data for the country Denmark, we can look up the index of the row that Denmark belongs to:"
   ]
  },
  {
   "cell_type": "code",
   "execution_count": 44,
   "metadata": {},
   "outputs": [
    {
     "name": "stdout",
     "output_type": "stream",
     "text": [
      "[  9.23327926e-01   2.68800000e+01   5.10100000e+00   1.00000000e+02\n",
      "  -1.76773296e+00   7.24832872e+00   2.30299740e+01   1.83000000e+00\n",
      "   1.06057718e+02   1.99614502e+02   1.31000000e+00   6.00000000e+00\n",
      "   1.00000000e+02   1.86893300e+01   1.02806400e+02   4.10000000e+00\n",
      "   4.75533400e-01   1.29153901e+01   7.05823870e+01   1.07500000e+01\n",
      "   4.84322471e-02  -4.84064419e-01   2.67158540e+01   2.35722410e+02\n",
      "   4.19905157e+04   1.83244425e+01   4.40254822e+04   0.00000000e+00\n",
      "   8.00000000e-01   2.90000000e+00   8.55700000e+03   8.32088000e+00\n",
      "   9.59900000e+01   5.00000000e+01   8.02000000e+01   1.36000000e+01\n",
      "   5.00000000e+00   1.27293882e+01   1.25960000e+02   1.46329073e+00\n",
      "   2.70000000e+00   3.42400000e+01   0.00000000e+00   8.53613441e+00\n",
      "   9.60767400e+01   1.01753680e+02   1.01266720e+02   1.11317000e+00\n",
      "   7.30000000e+01  -1.24352000e-01   8.74569035e+00   1.06232600e+01\n",
      "   1.23030067e+01   1.00000000e-02   4.34291700e-01   2.67672450e+01\n",
      "   2.98416000e+00   1.24659270e+02   3.79888268e+01   9.90951213e+00\n",
      "   3.96779382e+01   7.95976300e+01   3.33956510e+01   4.00000000e-01\n",
      "   3.50000000e+00]\n"
     ]
    }
   ],
   "source": [
    "# Print Denmark's data\n",
    "denmark_row_num = countries['Denmark']\n",
    "denmark_data = data[denmark_row_num, :]\n",
    "print(denmark_data)"
   ]
  },
  {
   "cell_type": "markdown",
   "metadata": {},
   "source": [
    "- Another example: Get country data for 'Life expectancy at birth- years'"
   ]
  },
  {
   "cell_type": "code",
   "execution_count": 48,
   "metadata": {},
   "outputs": [
    {
     "name": "stdout",
     "output_type": "stream",
     "text": [
      "[ 81.6    82.4    83.     80.2    81.6    80.9    80.9    79.1    82.     81.8\n",
      "  83.     84.     80.     82.2    80.7    82.6    81.9    82.4    81.7\n",
      "  83.5    80.8    82.2    81.4    80.8    80.4    82.6    83.1    78.6\n",
      "  80.9    76.8    78.8    80.2    78.2    81.294  76.3    77.4    73.3\n",
      "  80.6    74.3    76.3    77.     81.7    80.9    75.2    76.6    74.2\n",
      "  77.3    74.4    76.2    71.3    70.1    76.8    74.7    77.2    75.4\n",
      "  69.4    75.6    76.1    74.2    72.686  77.6    74.7    74.4    73.1\n",
      "  70.4    74.9    79.4    79.3    79.4    75.4    74.2    75.3    74.9\n",
      "  76.8    74.5    74.9    73.77   70.8    73.4    74.     75.4    71.     74.8\n",
      "  74.6    77.8    74.7    76.5    75.9    75.1    75.8    70.     69.4\n",
      "  74.4    77.763  71.6    74.8    74.     72.9    75.7    72.8    70.     73.5\n",
      "  71.1    76.8    73.4    64.5    71.6    71.1    65.6    64.4    68.9\n",
      "  72.9    72.9    68.4    68.2    73.     57.4    75.8    68.3    70.6\n",
      "  69.4    73.3    69.1    66.4    74.9    74.     64.8    71.8    69.4    68.\n",
      "  73.1    69.5    68.2    69.6    71.9    62.3    66.     57.6    60.1\n",
      "  61.4    66.2    71.6    68.4    66.5    61.6    69.6    66.2    65.9\n",
      "  52.3    49.     65.     52.8    55.5    65.1    57.5    63.1    67.9\n",
      "  62.6    63.3    63.8    49.8    59.7    62.8    64.2    58.5    59.6\n",
      "  63.5    62.     55.7    66.5    60.4    51.5    62.8    64.1    60.2\n",
      "  58.7    60.9    55.2    58.     55.1    50.9    58.8    58.7    56.7\n",
      "  51.6    63.7    50.7    61.4  ]\n"
     ]
    }
   ],
   "source": [
    "# Print all life expectancy data\n",
    "life_expectancy_data = data[:, columns['Life expectancy at birth- years']]\n",
    "print(life_expectancy_data)"
   ]
  },
  {
   "cell_type": "markdown",
   "metadata": {},
   "source": [
    "##### <font color=\"red\">Student activity 2: Practice accessing the data set</font>\n",
    "- Calculate the following:\n",
    "    - A list of the prison population for every country\n",
    "    - Sweden's mortality rate for children under the age of 5"
   ]
  },
  {
   "cell_type": "code",
   "execution_count": 50,
   "metadata": {
    "collapsed": true
   },
   "outputs": [],
   "source": [
    "#########################\n",
    "# Insert solution here! #\n",
    "#########################\n",
    "\n",
    "# Create a list containing the prison population of every country\n",
    "\n",
    "\n",
    "\n",
    "\n",
    "\n",
    "\n"
   ]
  },
  {
   "cell_type": "code",
   "execution_count": 49,
   "metadata": {
    "collapsed": true
   },
   "outputs": [],
   "source": [
    "#########################\n",
    "# Insert solution here! #\n",
    "#########################\n",
    "\n",
    "# Calculate Sweden's mortality rate for children under the age of 5\n",
    "\n",
    "\n",
    "\n",
    "\n",
    "\n",
    "\n",
    "\n"
   ]
  },
  {
   "cell_type": "markdown",
   "metadata": {},
   "source": [
    "# Data-set specific questions"
   ]
  },
  {
   "cell_type": "markdown",
   "metadata": {},
   "source": [
    "## 5. Which country had the largest reported 'Homeless people due to natural disaster' category? Can you think of the natural disaster that caused this?\n",
    "- Hints:\n",
    "    - Look at the column name to find the proper key\n",
    "    - Use Series.idxmax to get the index with the maximal value\n",
    "    - Once you have the index (the row) of the country with the largest number, use the iloc[] method to get the row corresponding to this index"
   ]
  },
  {
   "cell_type": "code",
   "execution_count": 61,
   "metadata": {},
   "outputs": [
    {
     "name": "stdout",
     "output_type": "stream",
     "text": [
      "Sri Lanka\n"
     ]
    }
   ],
   "source": [
    "#########################\n",
    "# Insert solution here! #\n",
    "#########################\n",
    "\n",
    "column_name = 'Homeless people due to natural disaster 2005 2014 per million people'\n",
    "index = df[column_name].idxmax()\n",
    "print(df['Id'].iloc[index])"
   ]
  },
  {
   "cell_type": "markdown",
   "metadata": {},
   "source": [
    "## 6. List the countries with the highest 3 and lowest 3 *total* suicide rates (male + female).\n",
    "- Hint: An easy way to do this might be to add a new column that is the sum of the two columns"
   ]
  },
  {
   "cell_type": "code",
   "execution_count": 146,
   "metadata": {
    "collapsed": true
   },
   "outputs": [],
   "source": [
    "# Create new column\n",
    "df['Total Suicide Rate 100k people'] = df['Female Suicide Rate 100k people'] + df['MaleSuicide Rate 100k people']"
   ]
  },
  {
   "cell_type": "code",
   "execution_count": 147,
   "metadata": {},
   "outputs": [
    {
     "data": {
      "text/html": [
       "<div>\n",
       "<style>\n",
       "    .dataframe thead tr:only-child th {\n",
       "        text-align: right;\n",
       "    }\n",
       "\n",
       "    .dataframe thead th {\n",
       "        text-align: left;\n",
       "    }\n",
       "\n",
       "    .dataframe tbody tr th {\n",
       "        vertical-align: top;\n",
       "    }\n",
       "</style>\n",
       "<table border=\"1\" class=\"dataframe\">\n",
       "  <thead>\n",
       "    <tr style=\"text-align: right;\">\n",
       "      <th></th>\n",
       "      <th>Id</th>\n",
       "      <th>Human Development Index HDI-2014</th>\n",
       "      <th>Gini coefficient 2005-2013</th>\n",
       "      <th>Adolescent birth rate 15-19 per 100k 20102015</th>\n",
       "      <th>Birth registration funder age 5 2005-2013</th>\n",
       "      <th>Carbon dioxide emissionsAverage annual growth</th>\n",
       "      <th>Carbon dioxide emissions per capita 2011 Tones</th>\n",
       "      <th>Change forest percentable 1900 to 2012</th>\n",
       "      <th>Change mobile usage 2009 2014</th>\n",
       "      <th>Consumer price index 2013</th>\n",
       "      <th>...</th>\n",
       "      <th>Research and development expenditure  2005-2012</th>\n",
       "      <th>Secondary 2008-2014</th>\n",
       "      <th>Share of seats in parliament percentage held by womand 2014</th>\n",
       "      <th>Stock of immigrants percentage of population 2013</th>\n",
       "      <th>Taxes on income profit and capital gain 205 2013</th>\n",
       "      <th>Tertiary -2008-2014</th>\n",
       "      <th>Total tax revenue of GDP 2005-2013</th>\n",
       "      <th>Tuberculosis rate per thousands 2012</th>\n",
       "      <th>Under-five Mortality 2013 thousands</th>\n",
       "      <th>Total Suicide Rate 100k people</th>\n",
       "    </tr>\n",
       "  </thead>\n",
       "  <tbody>\n",
       "    <tr>\n",
       "      <th>123</th>\n",
       "      <td>Guyana</td>\n",
       "      <td>0.635716</td>\n",
       "      <td>49.993333</td>\n",
       "      <td>88.484</td>\n",
       "      <td>88.0</td>\n",
       "      <td>0.088218</td>\n",
       "      <td>2.253385</td>\n",
       "      <td>3.883915e-09</td>\n",
       "      <td>12.78</td>\n",
       "      <td>109.458413</td>\n",
       "      <td>...</td>\n",
       "      <td>0.408277</td>\n",
       "      <td>100.97646</td>\n",
       "      <td>31.343284</td>\n",
       "      <td>1.847144</td>\n",
       "      <td>30.127209</td>\n",
       "      <td>12.91051</td>\n",
       "      <td>14.334957</td>\n",
       "      <td>15.0</td>\n",
       "      <td>36.6</td>\n",
       "      <td>92.9</td>\n",
       "    </tr>\n",
       "    <tr>\n",
       "      <th>16</th>\n",
       "      <td>South Korea</td>\n",
       "      <td>0.898334</td>\n",
       "      <td>31.013333</td>\n",
       "      <td>2.242</td>\n",
       "      <td>100.0</td>\n",
       "      <td>6.526073</td>\n",
       "      <td>11.840757</td>\n",
       "      <td>-3.421704e+00</td>\n",
       "      <td>16.08</td>\n",
       "      <td>107.670000</td>\n",
       "      <td>...</td>\n",
       "      <td>4.039190</td>\n",
       "      <td>97.19713</td>\n",
       "      <td>16.333333</td>\n",
       "      <td>2.501325</td>\n",
       "      <td>30.326869</td>\n",
       "      <td>98.37919</td>\n",
       "      <td>14.435656</td>\n",
       "      <td>5.4</td>\n",
       "      <td>3.7</td>\n",
       "      <td>59.7</td>\n",
       "    </tr>\n",
       "    <tr>\n",
       "      <th>36</th>\n",
       "      <td>Lithuania</td>\n",
       "      <td>0.839422</td>\n",
       "      <td>32.630000</td>\n",
       "      <td>10.612</td>\n",
       "      <td>100.0</td>\n",
       "      <td>0.414732</td>\n",
       "      <td>4.537559</td>\n",
       "      <td>1.186675e+01</td>\n",
       "      <td>-8.07</td>\n",
       "      <td>108.500000</td>\n",
       "      <td>...</td>\n",
       "      <td>0.901660</td>\n",
       "      <td>105.93656</td>\n",
       "      <td>23.404255</td>\n",
       "      <td>4.898385</td>\n",
       "      <td>9.034585</td>\n",
       "      <td>73.94864</td>\n",
       "      <td>13.377849</td>\n",
       "      <td>3.0</td>\n",
       "      <td>4.9</td>\n",
       "      <td>59.4</td>\n",
       "    </tr>\n",
       "  </tbody>\n",
       "</table>\n",
       "<p>3 rows × 67 columns</p>\n",
       "</div>"
      ],
      "text/plain": [
       "              Id  Human Development Index HDI-2014  \\\n",
       "123       Guyana                          0.635716   \n",
       "16   South Korea                          0.898334   \n",
       "36     Lithuania                          0.839422   \n",
       "\n",
       "     Gini coefficient 2005-2013  \\\n",
       "123                   49.993333   \n",
       "16                    31.013333   \n",
       "36                    32.630000   \n",
       "\n",
       "     Adolescent birth rate 15-19 per 100k 20102015  \\\n",
       "123                                         88.484   \n",
       "16                                           2.242   \n",
       "36                                          10.612   \n",
       "\n",
       "     Birth registration funder age 5 2005-2013  \\\n",
       "123                                       88.0   \n",
       "16                                       100.0   \n",
       "36                                       100.0   \n",
       "\n",
       "     Carbon dioxide emissionsAverage annual growth  \\\n",
       "123                                       0.088218   \n",
       "16                                        6.526073   \n",
       "36                                        0.414732   \n",
       "\n",
       "     Carbon dioxide emissions per capita 2011 Tones  \\\n",
       "123                                        2.253385   \n",
       "16                                        11.840757   \n",
       "36                                         4.537559   \n",
       "\n",
       "     Change forest percentable 1900 to 2012  Change mobile usage 2009 2014  \\\n",
       "123                            3.883915e-09                          12.78   \n",
       "16                            -3.421704e+00                          16.08   \n",
       "36                             1.186675e+01                          -8.07   \n",
       "\n",
       "     Consumer price index 2013               ...                \\\n",
       "123                 109.458413               ...                 \n",
       "16                  107.670000               ...                 \n",
       "36                  108.500000               ...                 \n",
       "\n",
       "     Research and development expenditure  2005-2012  Secondary 2008-2014  \\\n",
       "123                                         0.408277            100.97646   \n",
       "16                                          4.039190             97.19713   \n",
       "36                                          0.901660            105.93656   \n",
       "\n",
       "     Share of seats in parliament percentage held by womand 2014  \\\n",
       "123                                          31.343284             \n",
       "16                                           16.333333             \n",
       "36                                           23.404255             \n",
       "\n",
       "     Stock of immigrants percentage of population 2013  \\\n",
       "123                                           1.847144   \n",
       "16                                            2.501325   \n",
       "36                                            4.898385   \n",
       "\n",
       "     Taxes on income profit and capital gain 205 2013  Tertiary -2008-2014  \\\n",
       "123                                         30.127209             12.91051   \n",
       "16                                          30.326869             98.37919   \n",
       "36                                           9.034585             73.94864   \n",
       "\n",
       "     Total tax revenue of GDP 2005-2013  Tuberculosis rate per thousands 2012  \\\n",
       "123                           14.334957                                  15.0   \n",
       "16                            14.435656                                   5.4   \n",
       "36                            13.377849                                   3.0   \n",
       "\n",
       "     Under-five Mortality 2013 thousands  Total Suicide Rate 100k people  \n",
       "123                                 36.6                            92.9  \n",
       "16                                   3.7                            59.7  \n",
       "36                                   4.9                            59.4  \n",
       "\n",
       "[3 rows x 67 columns]"
      ]
     },
     "execution_count": 147,
     "metadata": {},
     "output_type": "execute_result"
    }
   ],
   "source": [
    "df.nlargest(3, 'Total Suicide Rate 100k people')"
   ]
  },
  {
   "cell_type": "code",
   "execution_count": 148,
   "metadata": {},
   "outputs": [
    {
     "data": {
      "text/html": [
       "<div>\n",
       "<style>\n",
       "    .dataframe thead tr:only-child th {\n",
       "        text-align: right;\n",
       "    }\n",
       "\n",
       "    .dataframe thead th {\n",
       "        text-align: left;\n",
       "    }\n",
       "\n",
       "    .dataframe tbody tr th {\n",
       "        vertical-align: top;\n",
       "    }\n",
       "</style>\n",
       "<table border=\"1\" class=\"dataframe\">\n",
       "  <thead>\n",
       "    <tr style=\"text-align: right;\">\n",
       "      <th></th>\n",
       "      <th>Id</th>\n",
       "      <th>Human Development Index HDI-2014</th>\n",
       "      <th>Gini coefficient 2005-2013</th>\n",
       "      <th>Adolescent birth rate 15-19 per 100k 20102015</th>\n",
       "      <th>Birth registration funder age 5 2005-2013</th>\n",
       "      <th>Carbon dioxide emissionsAverage annual growth</th>\n",
       "      <th>Carbon dioxide emissions per capita 2011 Tones</th>\n",
       "      <th>Change forest percentable 1900 to 2012</th>\n",
       "      <th>Change mobile usage 2009 2014</th>\n",
       "      <th>Consumer price index 2013</th>\n",
       "      <th>...</th>\n",
       "      <th>Research and development expenditure  2005-2012</th>\n",
       "      <th>Secondary 2008-2014</th>\n",
       "      <th>Share of seats in parliament percentage held by womand 2014</th>\n",
       "      <th>Stock of immigrants percentage of population 2013</th>\n",
       "      <th>Taxes on income profit and capital gain 205 2013</th>\n",
       "      <th>Tertiary -2008-2014</th>\n",
       "      <th>Total tax revenue of GDP 2005-2013</th>\n",
       "      <th>Tuberculosis rate per thousands 2012</th>\n",
       "      <th>Under-five Mortality 2013 thousands</th>\n",
       "      <th>Total Suicide Rate 100k people</th>\n",
       "    </tr>\n",
       "  </thead>\n",
       "  <tbody>\n",
       "    <tr>\n",
       "      <th>38</th>\n",
       "      <td>Saudi Arabia</td>\n",
       "      <td>0.837274</td>\n",
       "      <td>29.003333</td>\n",
       "      <td>10.221</td>\n",
       "      <td>100.0</td>\n",
       "      <td>2.865987</td>\n",
       "      <td>18.740823</td>\n",
       "      <td>0.000000</td>\n",
       "      <td>7.25</td>\n",
       "      <td>112.695156</td>\n",
       "      <td>...</td>\n",
       "      <td>0.073380</td>\n",
       "      <td>116.16767</td>\n",
       "      <td>19.867550</td>\n",
       "      <td>31.428332</td>\n",
       "      <td>18.656621</td>\n",
       "      <td>57.51638</td>\n",
       "      <td>9.946080</td>\n",
       "      <td>3.90</td>\n",
       "      <td>15.5</td>\n",
       "      <td>0.8</td>\n",
       "    </tr>\n",
       "    <tr>\n",
       "      <th>133</th>\n",
       "      <td>Syria</td>\n",
       "      <td>0.593721</td>\n",
       "      <td>35.780000</td>\n",
       "      <td>41.601</td>\n",
       "      <td>96.0</td>\n",
       "      <td>3.020274</td>\n",
       "      <td>2.625979</td>\n",
       "      <td>35.325506</td>\n",
       "      <td>48.89</td>\n",
       "      <td>143.199979</td>\n",
       "      <td>...</td>\n",
       "      <td>0.310747</td>\n",
       "      <td>47.72703</td>\n",
       "      <td>12.400000</td>\n",
       "      <td>6.366897</td>\n",
       "      <td>30.192850</td>\n",
       "      <td>28.35303</td>\n",
       "      <td>14.194683</td>\n",
       "      <td>2.10</td>\n",
       "      <td>14.6</td>\n",
       "      <td>0.9</td>\n",
       "    </tr>\n",
       "    <tr>\n",
       "      <th>51</th>\n",
       "      <td>Oman</td>\n",
       "      <td>0.793019</td>\n",
       "      <td>29.003333</td>\n",
       "      <td>10.615</td>\n",
       "      <td>100.0</td>\n",
       "      <td>14.478189</td>\n",
       "      <td>21.441127</td>\n",
       "      <td>0.000000</td>\n",
       "      <td>5.81</td>\n",
       "      <td>108.433059</td>\n",
       "      <td>...</td>\n",
       "      <td>0.132490</td>\n",
       "      <td>93.50884</td>\n",
       "      <td>9.580838</td>\n",
       "      <td>30.613879</td>\n",
       "      <td>2.625673</td>\n",
       "      <td>28.13726</td>\n",
       "      <td>2.574360</td>\n",
       "      <td>0.92</td>\n",
       "      <td>11.4</td>\n",
       "      <td>1.8</td>\n",
       "    </tr>\n",
       "  </tbody>\n",
       "</table>\n",
       "<p>3 rows × 67 columns</p>\n",
       "</div>"
      ],
      "text/plain": [
       "               Id  Human Development Index HDI-2014  \\\n",
       "38   Saudi Arabia                          0.837274   \n",
       "133         Syria                          0.593721   \n",
       "51           Oman                          0.793019   \n",
       "\n",
       "     Gini coefficient 2005-2013  \\\n",
       "38                    29.003333   \n",
       "133                   35.780000   \n",
       "51                    29.003333   \n",
       "\n",
       "     Adolescent birth rate 15-19 per 100k 20102015  \\\n",
       "38                                          10.221   \n",
       "133                                         41.601   \n",
       "51                                          10.615   \n",
       "\n",
       "     Birth registration funder age 5 2005-2013  \\\n",
       "38                                       100.0   \n",
       "133                                       96.0   \n",
       "51                                       100.0   \n",
       "\n",
       "     Carbon dioxide emissionsAverage annual growth  \\\n",
       "38                                        2.865987   \n",
       "133                                       3.020274   \n",
       "51                                       14.478189   \n",
       "\n",
       "     Carbon dioxide emissions per capita 2011 Tones  \\\n",
       "38                                        18.740823   \n",
       "133                                        2.625979   \n",
       "51                                        21.441127   \n",
       "\n",
       "     Change forest percentable 1900 to 2012  Change mobile usage 2009 2014  \\\n",
       "38                                 0.000000                           7.25   \n",
       "133                               35.325506                          48.89   \n",
       "51                                 0.000000                           5.81   \n",
       "\n",
       "     Consumer price index 2013               ...                \\\n",
       "38                  112.695156               ...                 \n",
       "133                 143.199979               ...                 \n",
       "51                  108.433059               ...                 \n",
       "\n",
       "     Research and development expenditure  2005-2012  Secondary 2008-2014  \\\n",
       "38                                          0.073380            116.16767   \n",
       "133                                         0.310747             47.72703   \n",
       "51                                          0.132490             93.50884   \n",
       "\n",
       "     Share of seats in parliament percentage held by womand 2014  \\\n",
       "38                                           19.867550             \n",
       "133                                          12.400000             \n",
       "51                                            9.580838             \n",
       "\n",
       "     Stock of immigrants percentage of population 2013  \\\n",
       "38                                           31.428332   \n",
       "133                                           6.366897   \n",
       "51                                           30.613879   \n",
       "\n",
       "     Taxes on income profit and capital gain 205 2013  Tertiary -2008-2014  \\\n",
       "38                                          18.656621             57.51638   \n",
       "133                                         30.192850             28.35303   \n",
       "51                                           2.625673             28.13726   \n",
       "\n",
       "     Total tax revenue of GDP 2005-2013  Tuberculosis rate per thousands 2012  \\\n",
       "38                             9.946080                                  3.90   \n",
       "133                           14.194683                                  2.10   \n",
       "51                             2.574360                                  0.92   \n",
       "\n",
       "     Under-five Mortality 2013 thousands  Total Suicide Rate 100k people  \n",
       "38                                  15.5                             0.8  \n",
       "133                                 14.6                             0.9  \n",
       "51                                  11.4                             1.8  \n",
       "\n",
       "[3 rows x 67 columns]"
      ]
     },
     "execution_count": 148,
     "metadata": {},
     "output_type": "execute_result"
    }
   ],
   "source": [
    "df.nsmallest(3, 'Total Suicide Rate 100k people')"
   ]
  },
  {
   "cell_type": "markdown",
   "metadata": {},
   "source": [
    "# Plots\n",
    "\n",
    "- Plotting is one of the most effective ways of gaining insight into a data set\n",
    "- Plotting histograms of single variables is often informative\n",
    "- Plotting scatter plots of two features can reveal relationships"
   ]
  },
  {
   "cell_type": "code",
   "execution_count": 236,
   "metadata": {},
   "outputs": [
    {
     "data": {
      "image/png": "[encoded data removed]",
      "text/plain": [
       "<matplotlib.figure.Figure at 0x7fea508739b0>"
      ]
     },
     "metadata": {},
     "output_type": "display_data"
    }
   ],
   "source": [
    "x_feature = 'Human Development Index HDI-2014'\n",
    "y_feature = 'Adolescent birth rate 15-19 per 100k 20102015'\n",
    "\n",
    "plt.scatter(df[x_feature], df[y_feature])\n",
    "\n",
    "plt.xlabel(x_feature)\n",
    "plt.ylabel(y_feature)\n",
    "\n",
    "plt.show()"
   ]
  },
  {
   "cell_type": "markdown",
   "metadata": {},
   "source": [
    "## 7. Create a histogram of the 'Human Development Index' variable with 15 bins\n",
    "- ** Hints: **\n",
    "    - plt.hist(data) creates a histogram of data\n",
    "    - Don't forget to call plt.show() after calling hist()!\n",
    "    - You should label axes with plt.xlabel(name) and plt.ylabel(name)"
   ]
  },
  {
   "cell_type": "code",
   "execution_count": 160,
   "metadata": {},
   "outputs": [
    {
     "data": {
      "image/png": "[encoded data removed]",
      "text/plain": [
       "<matplotlib.figure.Figure at 0x7fea507f30b8>"
      ]
     },
     "metadata": {},
     "output_type": "display_data"
    }
   ],
   "source": [
    "#########################\n",
    "# Insert solution here! #\n",
    "#########################\n",
    "\n",
    "column_name = 'Human Development Index HDI-2014'\n",
    "data = df[column_name].values\n",
    "plt.hist(data, bins = 15)\n",
    "plt.xlabel(column_name)\n",
    "plt.ylabel('counts')\n",
    "plt.show()"
   ]
  },
  {
   "cell_type": "markdown",
   "metadata": {},
   "source": [
    "## 8. Write a function to plot a scatter plot given two column names\n",
    "- The function should take in as arguments the DataFrame object, column names, and optional arguments for the x and y ranges, and include axis labels"
   ]
  },
  {
   "cell_type": "code",
   "execution_count": 126,
   "metadata": {
    "collapsed": true
   },
   "outputs": [],
   "source": [
    "#########################\n",
    "# Insert solution here! #\n",
    "#########################\n",
    "\n",
    "def create_scatterplot(dataframe, col1, col2, xrange = None, yrange = None):\n",
    "    # Data\n",
    "    plt.scatter(df[col1].values, df[col2].values)\n",
    "    \n",
    "    if xrange != None:\n",
    "        plt.xlim(xrange[0], xrange[1])\n",
    "    if yrange != None:\n",
    "        plt.ylim(yrange[0], yrange[1])\n",
    "        \n",
    "        \n",
    "    # Cosmetics\n",
    "    plt.xlabel(col1)\n",
    "    plt.ylabel(col2)\n",
    "        \n",
    "    plt.show()\n",
    "    "
   ]
  },
  {
   "cell_type": "markdown",
   "metadata": {},
   "source": [
    "## 9. Create a scatter plot of 'Homicide rate per 100000 people' vs 'Human Development Index'. Are there any noticable outliers? Pick a couple outliers and determine which country they belong to.\n",
    "- Hint: You can 'slice' the pandas DataFrame by a HDI range and a prison population range around the scatter point of interest"
   ]
  },
  {
   "cell_type": "code",
   "execution_count": 178,
   "metadata": {},
   "outputs": [
    {
     "data": {
      "image/png": "[encoded data removed]",
      "text/plain": [
       "<matplotlib.figure.Figure at 0x7fea508fcc88>"
      ]
     },
     "metadata": {},
     "output_type": "display_data"
    }
   ],
   "source": [
    "x_column_name = 'Human Development Index HDI-2014'\n",
    "y_column_name = 'Prison population per 100k people'\n",
    "\n",
    "create_scatterplot(df, x_column_name, y_column_name)"
   ]
  },
  {
   "cell_type": "code",
   "execution_count": 179,
   "metadata": {},
   "outputs": [
    {
     "name": "stdout",
     "output_type": "stream",
     "text": [
      "7    United States\n",
      "Name: Id, dtype: object\n",
      "63               Seychelles\n",
      "76    Saint Kitts and Nevis\n",
      "Name: Id, dtype: object\n",
      "163    Rwanda\n",
      "Name: Id, dtype: object\n"
     ]
    }
   ],
   "source": [
    "print(df[(df[x_column_name] > 0.8) & (df[y_column_name] > 600)]['Id'])    # Top right outlier\n",
    "\n",
    "print(df[(df[x_column_name] < 0.8) & (df[x_column_name] > 0.7) & (df[y_column_name] > 600)]['Id']) # Top two outliers\n",
    "\n",
    "print(df[(df[x_column_name] > 0.4) & (df[x_column_name] < 0.6) & (df[y_column_name] > 400)]['Id'])  # Top left"
   ]
  },
  {
   "cell_type": "markdown",
   "metadata": {},
   "source": [
    "### 7. Create a scatter plot of 'Human Development Index' vs 'Carbon dioxide emissions per capita 2011 Tones'.\n",
    "Inspect the plot and think about the following:\n",
    "    - Are the variables related in any way?\n",
    "    - If so, does the relationship make sense to you?"
   ]
  },
  {
   "cell_type": "code",
   "execution_count": 180,
   "metadata": {},
   "outputs": [
    {
     "data": {
      "image/png": "[encoded data removed]",
      "text/plain": [
       "<matplotlib.figure.Figure at 0x7fea506c5630>"
      ]
     },
     "metadata": {},
     "output_type": "display_data"
    }
   ],
   "source": [
    "x_column_name = 'Carbon dioxide emissions per capita 2011 Tones'\n",
    "y_column_name = 'Human Development Index HDI-2014'\n",
    "\n",
    "create_scatterplot(df, x_column_name, y_column_name)"
   ]
  },
  {
   "cell_type": "markdown",
   "metadata": {},
   "source": [
    "##### 8. Plot 'Gender Inequality Index 2014' vs 'Forest area percentage of total land area 2012'. How does this plot differ from the previous plot?"
   ]
  },
  {
   "cell_type": "code",
   "execution_count": 181,
   "metadata": {},
   "outputs": [
    {
     "data": {
      "image/png": "[encoded data removed]",
      "text/plain": [
       "<matplotlib.figure.Figure at 0x7fea50560ef0>"
      ]
     },
     "metadata": {},
     "output_type": "display_data"
    }
   ],
   "source": [
    "x_column_name = 'Gender Inequality Index 2014'\n",
    "y_column_name = 'Forest area percentage of total land area 2012'\n",
    "\n",
    "create_scatterplot(df, x_column_name, y_column_name)"
   ]
  },
  {
   "cell_type": "markdown",
   "metadata": {
    "collapsed": true
   },
   "source": [
    "# Covariance and Correlation matrices\n",
    "- So far in our exploratory data analysis we've looked for relationships between variables manually by plotting their scatter plots\n",
    "- Correlation matrices are a means of quantifying relationships between pairs of variables\n",
    "\n",
    "- The covariance of two variables $X$ and $Y$ is given by\n",
    "$$ \n",
    "\\begin{align}\n",
    "        \\mathrm{cov}\\left(X,Y\\right)=\\Sigma_{XY}&=E\\left[\\left(X-\\mu_{X}\\right)\\left(Y-\\mu_{Y}\\right)\\right] \\\\\n",
    "        \\Sigma_{XY}&=\\frac{\\sum_{i}\\left(x_{i}-\\mu_{X}\\right)\\left(y_{i}-\\mu_{Y}\\right)}{N}\\\\\n",
    "        \\Sigma_{XY}&=\\frac{1}{N}\\left[\\left(x_{1}-\\mu_{X}\\right)\\left(y_{1}-\\mu_{Y}\\right)+\\left(x_{2}-\\mu_{X}\\right)\\left(y_{2}-\\mu_{Y}\\right)+...+\\left(x_{N}-\\mu_{X}\\right)\\left(y_{N}-\\mu_{Y}\\right)\\right],\n",
    "\\end{align}  \n",
    "$$\n",
    "\n",
    "where X is a vector of a feature across all $N$ samples $X=\\left(x_{1}, x_{1}, ..., x_{N}\\right)$ and $\\mu_{X}$ is the average of $X$.\n",
    "\n",
    "Notice that $\\Sigma_{XX}=E\\left[\\left(X-\\mu_{X}\\right)\\left(X-\\mu_{X}\\right)\\right]=E\\left[\\left(X-\\mu_{X}\\right)^{2}\\right]=\\sigma^{2}_{X}$---** the covariance of a vector with itself is its variance **\n",
    "\n",
    "The covariance can be positive, negative, or zero depending on three cases:\n",
    "\n",
    "- ** Positive **: If $x_{i}-\\mu_{X}$ is positive, then $y_{i}-\\mu_{Y}$ tends to be positive as well\n",
    "    - This means that when $x_{i}$ is above its average value, $y_{i}$ tends to be above its average value as well\n",
    "- ** Zero **: $x_{i}-\\mu_{x}$ and $y_{i}-\\mu_{y}$ change between positive and negative independent of each other; for some values, they are above average together, for others they are below average together\n",
    "- ** Negative **: $x_{i}$ tends to be above average when $y_{i}$ tends to be below average\n",
    "\n",
    "- Covariance gives us a means of quantifying a relationship between two variables\n",
    "\n",
    "\n",
    "- For $K$ variables we can calculate the covariance of all pairs and put it into a $K\\times K$ matrix $\\Sigma$\n",
    "\n",
    "\n",
    "### \\begin{bmatrix}\n",
    "    \\sigma_{X_{1}X_{1}} & \\Sigma_{X_{1}X_{2}} & \\Sigma_{X_{1}X_{3}} & \\dots & \\Sigma_{X_{1}X_{K}} \\\\\n",
    "    \\Sigma_{X_{2}X_{1}} & \\sigma_{X_{2}X_{2}} & \\Sigma_{X_{2}X_{3}} & \\dots & \\Sigma_{X_{2}X_{K}} \\\\\n",
    "    \\Sigma_{X_{3}X_{1}} & \\Sigma_{X_{3}X_{2}} & \\sigma_{X_{3}X_{3}} & \\dots & \\Sigma_{X_{3}X_{K}} \\\\\n",
    "    \\vdots & \\vdots & \\vdots & \\ddots & \\vdots \\\\\n",
    "    \\Sigma_{X_{K}X_{1}} & \\Sigma_{X_{K}X_{2}} & \\Sigma_{X_{K}X_{3}} & \\dots & \\sigma_{X_{K}X_{K}} \\\\\n",
    "\\end{bmatrix}\n",
    "\n",
    "- The covariance matrix is nice, but difficult to interpret because it is not *scale invariant*---the relative magnitude of covariances between different variables is impossible to interpret; the only conclusion we can draw is about the sign of the covariance\n",
    "- It would be nice if we had a means of *standardizing* the covariances so that they were comparable\n",
    "- One way to *standardize* the covariance matrix is by dividing each element $\\Sigma_{X_{i}X_{j}}$ by $\\sqrt{\\sigma_{X_{i}}\\sigma_{X_{j}}}$, which will scale all $\\Sigma_{X_{i}X_{j}}$ to the range $\\{-1,1\\}$\n",
    "- Why? \n",
    "    - Covariance is maximized when both vectors are exactly equal, in which case the covariance $\\Sigma_{X_{i}X_{j}}$ and scaling factor $\\sqrt{\\sigma_{X_{i}}\\sigma_{X_{j}}}^{-1}$ are both equal to the standard deviation, and the term goes to 1\n",
    "    - Covariance is **minimized** when both vectors have equal magnitude but opposite direction, in which case the term goes to -1\n",
    "    - Therefore, all covariances rescaled by $\\left(\\sqrt{\\sigma_{X_{i}}\\sigma_{X_{j}}}\\right)^{-1}$ are in the range $\\{-1,1\\}$, enabling meaningful comparison between them\n",
    "    - The resulting matrix is known as the correlation matrix, and each of its elements is the **Pearson correlation coefficient** of two vectors\n",
    "    \n",
    " \n",
    "### \\begin{bmatrix}\n",
    "    1 & \\frac{\\Sigma_{X_{1}X_{2}}}{\\sqrt{\\sigma_{X_{1}}\\sigma_{X_{2}}}} & \\frac{\\Sigma_{X_{1}X_{3}}}{\\sqrt{\\sigma_{X_{1}}\\sigma_{X_{3}}}} & \\dots & \\frac{\\Sigma_{X_{1}X_{K}}}{\\sqrt{\\sigma_{X_{1}}\\sigma_{X_{K}}}} \\\\\n",
    "    \\frac{\\Sigma_{X_{2}X_{1}}}{\\sqrt{\\sigma_{X_{2}}\\sigma_{X_{1}}}} & 1 & \\frac{\\Sigma_{X_{2}X_{3}}}{\\sqrt{\\sigma_{X_{2}}\\sigma_{X_{3}}}} & \\dots & \\frac{\\Sigma_{X_{2}X_{K}}}{\\sqrt{\\sigma_{X_{2}}\\sigma_{X_{K}}}} \\\\\n",
    "    \\frac{\\Sigma_{X_{3}X_{1}}}{\\sqrt{\\sigma_{X_{3}}\\sigma_{X_{1}}}} & \\frac{\\Sigma_{X_{3}X_{2}}}{\\sqrt{\\sigma_{X_{3}}\\sigma_{X_{2}}}} & 1 & \\dots & \\frac{\\Sigma_{X_{3}X_{K}}}{\\sqrt{\\sigma_{X_{3}}\\sigma_{X_{K}}}} \\\\\n",
    "    \\vdots & \\vdots & \\vdots & \\ddots & \\vdots \\\\\n",
    "    \\frac{\\Sigma_{X_{K}X_{1}}}{\\sqrt{\\sigma_{X_{K}}\\sigma_{X_{1}}}} & \\frac{\\Sigma_{X_{K}X_{2}}}{\\sqrt{\\sigma_{X_{K}}\\sigma_{X_{2}}}} & \\frac{\\Sigma_{X_{K}X_{3}}}{\\sqrt{\\sigma_{X_{K}}\\sigma_{X_{3}}}} & \\dots & 1 \\\\\n",
    "\\end{bmatrix}\n",
    "    \n",
    "    \n",
    "- One easy way to calculate the correlation matrix is by **standardizing** your data set by subtracting the data for each feature by that feature's mean, and dividing by its standard deviation\n",
    "\n",
    "$$ X'=\\frac{\\left(X-\\mu_{X}\\right)}{\\sigma_{X}} $$\n",
    "\n",
    "- In this case, the correlation matrix of $X$ is simply the covariance matrix of $X'=X'^{T}X$"
   ]
  },
  {
   "cell_type": "markdown",
   "metadata": {},
   "source": [
    "## 9. Convert the numeric entries in the pandas DataFrame into a numpy array and standardize the array"
   ]
  },
  {
   "cell_type": "code",
   "execution_count": 204,
   "metadata": {
    "collapsed": true
   },
   "outputs": [],
   "source": [
    "data = df[[column for column in columns if column != 'Id']].values\n",
    "data = (data - np.mean(data, axis = 0))/np.std(data, axis = 0)"
   ]
  },
  {
   "cell_type": "code",
   "execution_count": 205,
   "metadata": {
    "collapsed": true
   },
   "outputs": [],
   "source": [
    "correlation_matrix = np.dot(data.T, data)"
   ]
  },
  {
   "cell_type": "code",
   "execution_count": 206,
   "metadata": {},
   "outputs": [
    {
     "name": "stdout",
     "output_type": "stream",
     "text": [
      "[[ 188.          -68.4358673  -141.21919136 ...,   26.27635391\n",
      "  -113.09878468 -162.50115768]\n",
      " [ -68.4358673   188.           76.24933221 ...,   34.79133942\n",
      "    36.60550322   55.8230093 ]\n",
      " [-141.21919136   76.24933221  188.         ...,  -15.7758251    77.48631365\n",
      "   142.08961623]\n",
      " ..., \n",
      " [  26.27635391   34.79133942  -15.7758251  ...,  188.          -26.44696871\n",
      "   -18.4239567 ]\n",
      " [-113.09878468   36.60550322   77.48631365 ...,  -26.44696871  188.\n",
      "   122.27255617]\n",
      " [-162.50115768   55.8230093   142.08961623 ...,  -18.4239567   122.27255617\n",
      "   188.        ]]\n"
     ]
    }
   ],
   "source": [
    "print(correlation_matrix)"
   ]
  },
  {
   "cell_type": "code",
   "execution_count": 215,
   "metadata": {},
   "outputs": [
    {
     "data": {
      "image/png": "[encoded data removed]",
      "text/plain": [
       "<matplotlib.figure.Figure at 0x7fea5089d588>"
      ]
     },
     "metadata": {},
     "output_type": "display_data"
    }
   ],
   "source": [
    "fig = plt.figure(figsize = (16,16))\n",
    "plt.imshow(correlation_matrix, cmap = 'seismic')\n",
    "\n",
    "plt.title('covariance matrix')\n",
    "plt.show()"
   ]
  },
  {
   "cell_type": "code",
   "execution_count": 223,
   "metadata": {},
   "outputs": [
    {
     "name": "stdout",
     "output_type": "stream",
     "text": [
      "['Human Development Index HDI-2014', 'Gini coefficient 2005-2013', 'Adolescent birth rate 15-19 per 100k 20102015', 'Birth registration funder age 5 2005-2013', 'Carbon dioxide emissionsAverage annual growth', 'Carbon dioxide emissions per capita 2011 Tones', 'Change forest percentable 1900 to 2012', 'Change mobile usage 2009 2014', 'Consumer price index 2013', 'Domestic credit provided by financial sector 2013', 'Domestic food price level 2009 2014 index', 'Domestic food price level 2009-2014 volitility index', 'Electrification rate or population', 'Expected years of schooling - Years', 'Exports and imports percentage GPD 2013', 'Female Suicide Rate 100k people', 'Foreign direct investment net inflows percentage GDP 2013', 'Forest area percentage of total land area 2012', 'Fossil fuels percentage of total 2012', 'Fresh water withdrawals 2005', 'Gender Inequality Index 2014', 'General government final consumption expenditure - Annual growth 2005 2013', 'General government final consumption expenditure - Perce of GDP 2005-2013', 'Gross domestic product GDP 2013', 'Gross domestic product GDP percapta', 'Gross fixed capital formation of GDP 2005-2013', 'Gross national income GNI per capita - 2011  Dollars', 'Homeless people due to natural disaster 2005 2014 per million people', 'Homicide rate per 100k people 2008-2012', 'Infant Mortality 2013 per thousands', 'International inbound tourists thausands 2013', 'International student mobility of total tetiary enrolvemnt 2013', 'Internet users percentage of population 2014', 'Intimate or nonintimate partner violence ever experienced 2001-2011', 'Life expectancy at birth- years', 'MaleSuicide Rate 100k people', 'Maternal mortality ratio deaths per 100 live births 2013', 'Mean years of schooling - Years', 'Mobile phone subscriptions per 100 people 2014', 'Natural resource depletion', 'Net migration rate per 1k people 2010-2015', 'Physicians per 10k people', 'Population affected by natural desasters average annual per million people 2005-2014', 'Population living on degraded land Percentage 2010', 'Population with at least some secondary education percent 2005-2013', 'Pre-primary 2008-2014', 'Primary-2008-2014', 'Primary school dropout rate 2008-2014', 'Prison population per 100k people', 'Private capital flows percentage GDP 2013', 'Public expenditure on education Percentange GDP', 'Public health expenditure percentage of GDP 2013', 'Pupil-teacher ratio primary school pupils per teacher 2008-2014', 'Refugees by country of origin', 'Remittances inflows percentual GDP 2013', 'Renewable sources percentage of total 2012', 'Research and development expenditure  2005-2012', 'Secondary 2008-2014', 'Share of seats in parliament percentage held by womand 2014', 'Stock of immigrants percentage of population 2013', 'Taxes on income profit and capital gain 205 2013', 'Tertiary -2008-2014', 'Total tax revenue of GDP 2005-2013', 'Tuberculosis rate per thousands 2012', 'Under-five Mortality 2013 thousands']\n"
     ]
    }
   ],
   "source": [
    "removed_columns = columns[1:]\n",
    "print(removed_columns)"
   ]
  },
  {
   "cell_type": "code",
   "execution_count": 231,
   "metadata": {},
   "outputs": [
    {
     "data": {
      "image/png": "[encoded data removed]",
      "text/plain": [
       "<matplotlib.figure.Figure at 0x7fea501284a8>"
      ]
     },
     "metadata": {},
     "output_type": "display_data"
    }
   ],
   "source": [
    "create_scatterplot(df, removed_columns[0], removed_columns[57], xrange = None)\n"
   ]
  },
  {
   "cell_type": "code",
   "execution_count": 210,
   "metadata": {},
   "outputs": [
    {
     "name": "stdout",
     "output_type": "stream",
     "text": [
      "[[ 1.         -0.36402057 -0.75116591 ...,  0.13976784 -0.60158928\n",
      "  -0.86436786]\n",
      " [-0.36402057  1.          0.40558155 ...,  0.18506032  0.19471012\n",
      "   0.2969309 ]\n",
      " [-0.75116591  0.40558155  1.         ..., -0.08391396  0.41216124\n",
      "   0.75579583]\n",
      " ..., \n",
      " [ 0.13976784  0.18506032 -0.08391396 ...,  1.         -0.14067537\n",
      "  -0.09799977]\n",
      " [-0.60158928  0.19471012  0.41216124 ..., -0.14067537  1.          0.65038594]\n",
      " [-0.86436786  0.2969309   0.75579583 ..., -0.09799977  0.65038594  1.        ]]\n"
     ]
    }
   ],
   "source": [
    "print(correlation_matrix/len(countries))"
   ]
  },
  {
   "cell_type": "code",
   "execution_count": null,
   "metadata": {
    "collapsed": true
   },
   "outputs": [],
   "source": []
  }
 ],
 "metadata": {
  "kernelspec": {
   "display_name": "Python 3",
   "language": "python",
   "name": "python3"
  },
  "language_info": {
   "codemirror_mode": {
    "name": "ipython",
    "version": 3
   },
   "file_extension": ".py",
   "mimetype": "text/x-python",
   "name": "python",
   "nbconvert_exporter": "python",
   "pygments_lexer": "ipython3",
   "version": "3.6.1"
  }
 },
 "nbformat": 4,
 "nbformat_minor": 2
}
